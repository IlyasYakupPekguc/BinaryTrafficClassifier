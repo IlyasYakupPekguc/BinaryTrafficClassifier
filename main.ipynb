{
 "cells": [
  {
   "cell_type": "markdown",
   "metadata": {},
   "source": [
    "TODO:\n",
    "- setup .venv\n",
    "- get packets\n",
    "- view dataset\n",
    "- feature selections\n",
    "- preprocessing\n",
    "- pytorch NN\n",
    "- Experiment with layers\n",
    "- Try Activation functions\n",
    "- See next\n"
   ]
  },
  {
   "cell_type": "code",
   "execution_count": 15,
   "metadata": {},
   "outputs": [
    {
     "name": "stdout",
     "output_type": "stream",
     "text": [
      "Fri Feb 14 21:07:34 2025       \n",
      "+-----------------------------------------------------------------------------------------+\n",
      "| NVIDIA-SMI 550.120                Driver Version: 550.120        CUDA Version: 12.4     |\n",
      "|-----------------------------------------+------------------------+----------------------+\n",
      "| GPU  Name                 Persistence-M | Bus-Id          Disp.A | Volatile Uncorr. ECC |\n",
      "| Fan  Temp   Perf          Pwr:Usage/Cap |           Memory-Usage | GPU-Util  Compute M. |\n",
      "|                                         |                        |               MIG M. |\n",
      "|=========================================+========================+======================|\n",
      "|   0  NVIDIA GeForce RTX 3050 ...    Off |   00000000:01:00.0 Off |                  N/A |\n",
      "| N/A   50C    P0             14W /   60W |     193MiB /   4096MiB |      6%      Default |\n",
      "|                                         |                        |                  N/A |\n",
      "+-----------------------------------------+------------------------+----------------------+\n",
      "                                                                                         \n",
      "+-----------------------------------------------------------------------------------------+\n",
      "| Processes:                                                                              |\n",
      "|  GPU   GI   CI        PID   Type   Process name                              GPU Memory |\n",
      "|        ID   ID                                                               Usage      |\n",
      "|=========================================================================================|\n",
      "|    0   N/A  N/A      2579      G   /usr/lib/xorg/Xorg                              4MiB |\n",
      "|    0   N/A  N/A      8059      C   ...yTrafficClassifier/.venv/bin/python        180MiB |\n",
      "+-----------------------------------------------------------------------------------------+\n"
     ]
    }
   ],
   "source": [
    "#Check GPU\n",
    "!nvidia-smi"
   ]
  },
  {
   "cell_type": "code",
   "execution_count": 1,
   "metadata": {},
   "outputs": [
    {
     "name": "stdout",
     "output_type": "stream",
     "text": [
      "PyTorch version: 2.5.1+cu121\n",
      "CUDA available: True\n",
      "CUDA device count: 1\n",
      "CUDA device name: NVIDIA GeForce RTX 3050 Laptop GPU\n"
     ]
    }
   ],
   "source": [
    "import torch \n",
    "print(f\"PyTorch version: {torch.__version__}\")\n",
    "print(f\"CUDA available: {torch.cuda.is_available()}\")\n",
    "print(f\"CUDA device count: {torch.cuda.device_count()}\")\n",
    "if torch.cuda.is_available():\n",
    "    print(f\"CUDA device name: {torch.cuda.get_device_name(0)}\")"
   ]
  },
  {
   "cell_type": "code",
   "execution_count": 2,
   "metadata": {},
   "outputs": [],
   "source": [
    "# Import libsss\n",
    "import pandas as pd\n",
    "import numpy as np\n",
    "import matplotlib.pyplot as plt\n",
    "import seaborn as sns\n",
    "import torch.nn as nn\n",
    "import torch.optim as optim\n",
    "from torch.utils.data import TensorDataset, DataLoader"
   ]
  },
  {
   "cell_type": "code",
   "execution_count": 3,
   "metadata": {},
   "outputs": [],
   "source": [
    "# dataset was seperated before so let's see how the dataset looks like in the training csv\n",
    "df = pd.read_csv('dataset/UNSW_NB15_testing-set.csv')"
   ]
  },
  {
   "cell_type": "code",
   "execution_count": 4,
   "metadata": {},
   "outputs": [
    {
     "name": "stdout",
     "output_type": "stream",
     "text": [
      "Dataset Shape: (82332, 45)\n",
      "\n",
      "Class Distrubition:\n",
      "label\n",
      "1    0.5506\n",
      "0    0.4494\n",
      "Name: proportion, dtype: float64\n"
     ]
    }
   ],
   "source": [
    "# check the informationn containing the datset\n",
    "print(\"Dataset Shape:\", df.shape) # (totaldata,features)\n",
    "print(\"\\nClass Distrubition:\")\n",
    "print(df['label'].value_counts(normalize=True)) # print how many benign and attack data and normalize to percentages"
   ]
  },
  {
   "cell_type": "code",
   "execution_count": 5,
   "metadata": {},
   "outputs": [
    {
     "name": "stdout",
     "output_type": "stream",
     "text": [
      "Missing Values:\n",
      "id                   0\n",
      "dur                  0\n",
      "proto                0\n",
      "service              0\n",
      "state                0\n",
      "spkts                0\n",
      "dpkts                0\n",
      "sbytes               0\n",
      "dbytes               0\n",
      "rate                 0\n",
      "sttl                 0\n",
      "dttl                 0\n",
      "sload                0\n",
      "dload                0\n",
      "sloss                0\n",
      "dloss                0\n",
      "sinpkt               0\n",
      "dinpkt               0\n",
      "sjit                 0\n",
      "djit                 0\n",
      "swin                 0\n",
      "stcpb                0\n",
      "dtcpb                0\n",
      "dwin                 0\n",
      "tcprtt               0\n",
      "synack               0\n",
      "ackdat               0\n",
      "smean                0\n",
      "dmean                0\n",
      "trans_depth          0\n",
      "response_body_len    0\n",
      "ct_srv_src           0\n",
      "ct_state_ttl         0\n",
      "ct_dst_ltm           0\n",
      "ct_src_dport_ltm     0\n",
      "ct_dst_sport_ltm     0\n",
      "ct_dst_src_ltm       0\n",
      "is_ftp_login         0\n",
      "ct_ftp_cmd           0\n",
      "ct_flw_http_mthd     0\n",
      "ct_src_ltm           0\n",
      "ct_srv_dst           0\n",
      "is_sm_ips_ports      0\n",
      "attack_cat           0\n",
      "label                0\n",
      "dtype: int64\n"
     ]
    }
   ],
   "source": [
    "# Check for missing values (none in this case)\n",
    "print(\"Missing Values:\")\n",
    "print(df.isnull().sum())"
   ]
  },
  {
   "cell_type": "code",
   "execution_count": 6,
   "metadata": {},
   "outputs": [
    {
     "data": {
      "image/png": "[encoded data removed]",
      "text/plain": [
       "<Figure size 1000x600 with 1 Axes>"
      ]
     },
     "metadata": {},
     "output_type": "display_data"
    }
   ],
   "source": [
    "# Visualize the class distrobution\n",
    "plt.figure(figsize=(10,6)) # size of the plot\n",
    "df['label'].value_counts().plot(kind ='bar', color= ['green', 'red'])\n",
    "plt.title('Visualized Class Dist')\n",
    "plt.xlabel('0 - bengign, 1 - Attack')\n",
    "plt.ylabel('COunt')\n",
    "plt.show()"
   ]
  },
  {
   "cell_type": "code",
   "execution_count": 7,
   "metadata": {},
   "outputs": [
    {
     "name": "stdout",
     "output_type": "stream",
     "text": [
      "\n",
      "Relationship between labels and attack categories:\n",
      "attack_cat  Analysis  Backdoor   DoS  Exploits  Fuzzers  Generic  Normal  \\\n",
      "label                                                                      \n",
      "0                  0         0     0         0        0        0   37000   \n",
      "1                677       583  4089     11132     6062    18871       0   \n",
      "\n",
      "attack_cat  Reconnaissance  Shellcode  Worms  \n",
      "label                                         \n",
      "0                        0          0      0  \n",
      "1                     3496        378     44  \n"
     ]
    }
   ],
   "source": [
    "# see what types of attacks the dataset containst that have the label value of 1\n",
    "if 'attack_cat' in df.columns:\n",
    "    print(\"\\nRelationship between labels and attack categories:\")\n",
    "    print(pd.crosstab(df['label'], df['attack_cat']))"
   ]
  },
  {
   "cell_type": "code",
   "execution_count": 8,
   "metadata": {},
   "outputs": [
    {
     "name": "stdout",
     "output_type": "stream",
     "text": [
      "Types of data in our dataset: \n",
      "id                     int64\n",
      "dur                  float64\n",
      "proto                 object\n",
      "service               object\n",
      "state                 object\n",
      "spkts                  int64\n",
      "dpkts                  int64\n",
      "sbytes                 int64\n",
      "dbytes                 int64\n",
      "rate                 float64\n",
      "sttl                   int64\n",
      "dttl                   int64\n",
      "sload                float64\n",
      "dload                float64\n",
      "sloss                  int64\n",
      "dloss                  int64\n",
      "sinpkt               float64\n",
      "dinpkt               float64\n",
      "sjit                 float64\n",
      "djit                 float64\n",
      "swin                   int64\n",
      "stcpb                  int64\n",
      "dtcpb                  int64\n",
      "dwin                   int64\n",
      "tcprtt               float64\n",
      "synack               float64\n",
      "ackdat               float64\n",
      "smean                  int64\n",
      "dmean                  int64\n",
      "trans_depth            int64\n",
      "response_body_len      int64\n",
      "ct_srv_src             int64\n",
      "ct_state_ttl           int64\n",
      "ct_dst_ltm             int64\n",
      "ct_src_dport_ltm       int64\n",
      "ct_dst_sport_ltm       int64\n",
      "ct_dst_src_ltm         int64\n",
      "is_ftp_login           int64\n",
      "ct_ftp_cmd             int64\n",
      "ct_flw_http_mthd       int64\n",
      "ct_src_ltm             int64\n",
      "ct_srv_dst             int64\n",
      "is_sm_ips_ports        int64\n",
      "attack_cat            object\n",
      "label                  int64\n",
      "dtype: object\n",
      "\n",
      "Categorical Columns if any: Index(['proto', 'service', 'state', 'attack_cat'], dtype='object')\n"
     ]
    }
   ],
   "source": [
    "# Check for non numeric data\n",
    "print(\"Types of data in our dataset: \")\n",
    "print(df.dtypes)\n",
    "\n",
    "# non numeric data that needs to be converted\n",
    "categorical_collumns = df.select_dtypes(include=['object']).columns\n",
    "print(\"\\nCategorical Columns if any:\", categorical_collumns)"
   ]
  },
  {
   "cell_type": "markdown",
   "metadata": {},
   "source": [
    "Seperation For Bİnary Classification"
   ]
  },
  {
   "cell_type": "code",
   "execution_count": 9,
   "metadata": {},
   "outputs": [],
   "source": [
    "# Seperate the features into the input and output\n",
    "X = df.drop(['label', 'attack_cat'], axis = 1) # we also drop the atack_cat beacuase we want binary classification.\n",
    "y = df['label'] # give the output the label as that is waht we want as output.\n",
    "\n",
    "# y = ax+b think it like this way. X has inputs y has outputs"
   ]
  },
  {
   "cell_type": "code",
   "execution_count": 10,
   "metadata": {},
   "outputs": [],
   "source": [
    "# convert remaining categorical features into numbers using one-hot encoding\n",
    "X = pd.get_dummies(X, columns=['proto', 'service', 'state'])"
   ]
  },
  {
   "cell_type": "code",
   "execution_count": 11,
   "metadata": {},
   "outputs": [
    {
     "name": "stdout",
     "output_type": "stream",
     "text": [
      "Shape of the new db: (82332, 191)\n"
     ]
    }
   ],
   "source": [
    "# scale numbers for NN\n",
    "from sklearn.preprocessing import StandardScaler\n",
    "scaler = StandardScaler()\n",
    "\n",
    "column_names = X.columns # get column names\n",
    "X_scaled = scaler.fit_transform(X) # Scale Features\n",
    "X = pd.DataFrame(X_scaled, columns= column_names) # COnvert back to dataframe \n",
    "\n",
    "# see results\n",
    "print(\"Shape of the new db:\", X.shape)"
   ]
  },
  {
   "cell_type": "markdown",
   "metadata": {},
   "source": [
    "Shaping the NN"
   ]
  },
  {
   "cell_type": "code",
   "execution_count": 12,
   "metadata": {},
   "outputs": [
    {
     "name": "stdout",
     "output_type": "stream",
     "text": [
      "X tensor shape: torch.Size([82332, 191])\n",
      "y tensor shape: torch.Size([82332])\n"
     ]
    }
   ],
   "source": [
    "X_tensor = torch.FloatTensor(X.values)\n",
    "y_tensor = torch.LongTensor(y.values)\n",
    "\n",
    "print(\"X tensor shape:\", X_tensor.shape)\n",
    "print(\"y tensor shape:\", y_tensor.shape)\n",
    "\n",
    "device = torch.device('cuda' if torch.cuda.is_available() else 'cpu')\n",
    "X_tensor = X_tensor.to(device)\n",
    "y_tensor = y_tensor.to(device)"
   ]
  },
  {
   "cell_type": "code",
   "execution_count": 13,
   "metadata": {},
   "outputs": [
    {
     "name": "stdout",
     "output_type": "stream",
     "text": [
      "model Structure:\n",
      "TrafficClasifier(\n",
      "  (layer1): Linear(in_features=191, out_features=128, bias=True)\n",
      "  (batch_norm1): BatchNorm1d(128, eps=1e-05, momentum=0.1, affine=True, track_running_stats=True)\n",
      "  (dropout1): Dropout(p=0.3, inplace=False)\n",
      "  (layer2): Linear(in_features=128, out_features=64, bias=True)\n",
      "  (batch_norm2): BatchNorm1d(64, eps=1e-05, momentum=0.1, affine=True, track_running_stats=True)\n",
      "  (dropout2): Dropout(p=0.2, inplace=False)\n",
      "  (output): Linear(in_features=64, out_features=2, bias=True)\n",
      "  (relu): ReLU()\n",
      ")\n"
     ]
    }
   ],
   "source": [
    "class TrafficClasifier(nn.Module):\n",
    "    def __init__(self, input_size):\n",
    "        super(TrafficClasifier, self).__init__()\n",
    "\n",
    "        # our very first layer - takes teh features and processes tehm\n",
    "        self.layer1 = nn.Linear(input_size, 128)\n",
    "        self.batch_norm1 = nn.BatchNorm1d(128)\n",
    "        self.dropout1 = nn.Dropout(0.3)\n",
    "\n",
    "        # Second layer - further procesing\n",
    "        self.layer2 = nn.Linear(128, 64)\n",
    "        self.batch_norm2 = nn.BatchNorm1d(64)\n",
    "        self.dropout2 = nn.Dropout(0.2)\n",
    "\n",
    "        # Outuput layer - processes the binary classification\n",
    "        self.output = nn.Linear(64, 2) # 2 beacause we have 2 classes\n",
    "\n",
    "        # activation Function \n",
    "        self.relu = nn.ReLU()\n",
    "\n",
    "    def forward(self,x):\n",
    "\n",
    "        # First layer rpocessing\n",
    "        x = self.layer1(x)\n",
    "        x = self.batch_norm1(x)\n",
    "        x = self.relu(x)\n",
    "        x = self.dropout1(x)\n",
    "\n",
    "        # Second Layer processing\n",
    "        x = self.layer2(x)\n",
    "        x = self.batch_norm2(x)\n",
    "        x = self.relu(x)\n",
    "        x = self.dropout2(x)\n",
    "\n",
    "        # Output layer\n",
    "        x = self.output(x)\n",
    "\n",
    "        return x\n",
    "    \n",
    "# Create model instance\n",
    "input_size = X_tensor.shape[1] # Number of features\n",
    "model = TrafficClasifier(input_size).to(device)\n",
    "\n",
    "print(\"model Structure:\")\n",
    "print(model)"
   ]
  },
  {
   "cell_type": "code",
   "execution_count": 16,
   "metadata": {},
   "outputs": [
    {
     "name": "stdout",
     "output_type": "stream",
     "text": [
      "Epoch [1 / 20], Loss: 0.0437\n",
      "Epoch [2 / 20], Loss: 0.0435\n",
      "Epoch [3 / 20], Loss: 0.0410\n",
      "Epoch [4 / 20], Loss: 0.0415\n",
      "Epoch [5 / 20], Loss: 0.0416\n",
      "Epoch [6 / 20], Loss: 0.0399\n",
      "Epoch [7 / 20], Loss: 0.0393\n",
      "Epoch [8 / 20], Loss: 0.0385\n",
      "Epoch [9 / 20], Loss: 0.0373\n",
      "Epoch [10 / 20], Loss: 0.0380\n",
      "Epoch [11 / 20], Loss: 0.0374\n",
      "Epoch [12 / 20], Loss: 0.0356\n",
      "Epoch [13 / 20], Loss: 0.0352\n",
      "Epoch [14 / 20], Loss: 0.0358\n",
      "Epoch [15 / 20], Loss: 0.0342\n",
      "Epoch [16 / 20], Loss: 0.0351\n",
      "Epoch [17 / 20], Loss: 0.0349\n",
      "Epoch [18 / 20], Loss: 0.0345\n",
      "Epoch [19 / 20], Loss: 0.0340\n",
      "Epoch [20 / 20], Loss: 0.0340\n"
     ]
    }
   ],
   "source": [
    "# The teaching of the NN\n",
    "criterion = nn.CrossEntropyLoss() # Measurers how wrong the predicitons are\n",
    "optimizer = torch.optim.Adam(model.parameters(), lr = 0.001) # optimizer + laerning rate\n",
    "\n",
    "# dataloader to efficiently feet data to our model\n",
    "dataset = TensorDataset(X_tensor, y_tensor)\n",
    "\n",
    "# dataloader taht will handele batches\n",
    "batch_size = 64\n",
    "train_loader = DataLoader(dataset, batch_size=batch_size, shuffle=True)\n",
    "\n",
    "# epochss\n",
    "epochs = 20\n",
    "\n",
    "for epoch in range(epochs):\n",
    "    model.train()\n",
    "    total_loss = 0\n",
    "\n",
    "    for batch_X, batch_y in train_loader: \n",
    "        optimizer.zero_grad() # zero out any existing gradient\n",
    "\n",
    "        outputs = model(batch_X)  #make predicitons\n",
    "\n",
    "        loss = criterion(outputs, batch_y) # calculate how wrong predicitons are by comparing\n",
    "\n",
    "        loss.backward() # calculate how to improve our predicts\n",
    "\n",
    "        optimizer.step() # update models parameters\n",
    "\n",
    "        total_loss += loss.item()\n",
    "\n",
    "    avg_loss = total_loss / len(train_loader)\n",
    "    print(f'Epoch [{epoch+1} / {epochs}], Loss: {avg_loss:.4f}')\n",
    "\n",
    "\n"
   ]
  },
  {
   "cell_type": "markdown",
   "metadata": {},
   "source": []
  },
  {
   "cell_type": "markdown",
   "metadata": {},
   "source": []
  }
 ],
 "metadata": {
  "kernelspec": {
   "display_name": ".venv",
   "language": "python",
   "name": "python3"
  },
  "language_info": {
   "codemirror_mode": {
    "name": "ipython",
    "version": 3
   },
   "file_extension": ".py",
   "mimetype": "text/x-python",
   "name": "python",
   "nbconvert_exporter": "python",
   "pygments_lexer": "ipython3",
   "version": "3.10.12"
  }
 },
 "nbformat": 4,
 "nbformat_minor": 2
}
